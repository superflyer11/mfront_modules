{
 "cells": [
  {
   "cell_type": "code",
   "execution_count": 1,
   "metadata": {},
   "outputs": [],
   "source": [
    "import shutil\n",
    "\n",
    "shutil.rmtree('/mofem_install/jupyter/thomas/mfront_interface/include')\n",
    "shutil.rmtree('/mofem_install/jupyter/thomas/mfront_interface/src')"
   ]
  },
  {
   "cell_type": "code",
   "execution_count": 2,
   "metadata": {},
   "outputs": [
    {
     "name": "stdout",
     "output_type": "stream",
     "text": [
      "Treating target : all\n",
      "The following library has been built :\n",
      "- libBehaviour.so :  LinearElasticity_AxisymmetricalGeneralisedPlaneStrain LinearElasticity_Axisymmetrical LinearElasticity_PlaneStrain LinearElasticity_GeneralisedPlaneStrain LinearElasticity_Tridimensional\n"
     ]
    }
   ],
   "source": [
    "!/mofem_install/jupyter/thomas/mfront_interface/compile_behaviours.sh /mofem_install/jupyter/thomas/mfront_interface/behaviours/LinearElasticity.mfront"
   ]
  },
  {
   "cell_type": "code",
   "execution_count": 3,
   "metadata": {},
   "outputs": [
    {
     "name": "stdout",
     "output_type": "stream",
     "text": [
      "Treating target : all\n",
      "The following library has been built :\n",
      "- libBehaviour.so :  LinearElasticity_AxisymmetricalGeneralisedPlaneStrain LinearElasticity_Axisymmetrical LinearElasticity_PlaneStrain LinearElasticity_GeneralisedPlaneStrain LinearElasticity_Tridimensional vMDefault_AxisymmetricalGeneralisedPlaneStrain vMDefault_Axisymmetrical vMDefault_PlaneStrain vMDefault_GeneralisedPlaneStrain vMDefault_Tridimensional\n",
      "Treating target : all\n",
      "The following library has been built :\n",
      "- libBehaviour.so :  LinearElasticity_AxisymmetricalGeneralisedPlaneStrain LinearElasticity_Axisymmetrical LinearElasticity_PlaneStrain LinearElasticity_GeneralisedPlaneStrain LinearElasticity_Tridimensional vMDefault_AxisymmetricalGeneralisedPlaneStrain vMDefault_Axisymmetrical vMDefault_PlaneStrain vMDefault_GeneralisedPlaneStrain vMDefault_Tridimensional vM_AxisymmetricalGeneralisedPlaneStrain vM_AxisymmetricalGeneralisedPlaneStress vM_Axisymmetrical vM_PlaneStress vM_PlaneStrain vM_GeneralisedPlaneStrain vM_Tridimensional\n"
     ]
    }
   ],
   "source": [
    "!/mofem_install/jupyter/thomas/mfront_interface/compile_behaviours.sh /mofem_install/jupyter/thomas/mfront_interface/behaviours/VMHardening_DefaultDSL.mfront\n",
    "\n",
    "!/mofem_install/jupyter/thomas/mfront_interface/compile_behaviours.sh /mofem_install/jupyter/thomas/mfront_interface/behaviours/VMHardening_implicit.mfront"
   ]
  },
  {
   "cell_type": "code",
   "execution_count": 4,
   "metadata": {},
   "outputs": [
    {
     "name": "stdout",
     "output_type": "stream",
     "text": [
      "Treating target : all\n",
      "The following library has been built :\n",
      "- libBehaviour.so :  LinearElasticity_AxisymmetricalGeneralisedPlaneStrain LinearElasticity_Axisymmetrical LinearElasticity_PlaneStrain LinearElasticity_GeneralisedPlaneStrain LinearElasticity_Tridimensional vMDefault_AxisymmetricalGeneralisedPlaneStrain vMDefault_Axisymmetrical vMDefault_PlaneStrain vMDefault_GeneralisedPlaneStrain vMDefault_Tridimensional vM_AxisymmetricalGeneralisedPlaneStrain vM_AxisymmetricalGeneralisedPlaneStress vM_Axisymmetrical vM_PlaneStress vM_PlaneStrain vM_GeneralisedPlaneStrain vM_Tridimensional DruckerPragerSimple_AxisymmetricalGeneralisedPlaneStrain DruckerPragerSimple_AxisymmetricalGeneralisedPlaneStress DruckerPragerSimple_Axisymmetrical DruckerPragerSimple_PlaneStress DruckerPragerSimple_PlaneStrain DruckerPragerSimple_GeneralisedPlaneStrain DruckerPragerSimple_Tridimensional\n"
     ]
    }
   ],
   "source": [
    "!/mofem_install/jupyter/thomas/mfront_interface/compile_behaviours.sh /mofem_install/jupyter/thomas/mfront_interface/behaviours/DP_negative.mfront"
   ]
  },
  {
   "cell_type": "code",
   "execution_count": 11,
   "metadata": {},
   "outputs": [
    {
     "name": "stdout",
     "output_type": "stream",
     "text": [
      "Treating target : all\n",
      "The following library has been built :\n",
      "- libBehaviour.so :  LinearElasticity_AxisymmetricalGeneralisedPlaneStrain LinearElasticity_Axisymmetrical LinearElasticity_PlaneStrain LinearElasticity_GeneralisedPlaneStrain LinearElasticity_Tridimensional vMDefault_AxisymmetricalGeneralisedPlaneStrain vMDefault_Axisymmetrical vMDefault_PlaneStrain vMDefault_GeneralisedPlaneStrain vMDefault_Tridimensional vM_AxisymmetricalGeneralisedPlaneStrain vM_AxisymmetricalGeneralisedPlaneStress vM_Axisymmetrical vM_PlaneStress vM_PlaneStrain vM_GeneralisedPlaneStrain vM_Tridimensional DruckerPragerSimple_AxisymmetricalGeneralisedPlaneStrain DruckerPragerSimple_AxisymmetricalGeneralisedPlaneStress DruckerPragerSimple_Axisymmetrical DruckerPragerSimple_PlaneStress DruckerPragerSimple_PlaneStrain DruckerPragerSimple_GeneralisedPlaneStrain DruckerPragerSimple_Tridimensional DruckerPragerHyperboloidal_AxisymmetricalGeneralisedPlaneStrain DruckerPragerHyperboloidal_AxisymmetricalGeneralisedPlaneStress DruckerPragerHyperboloidal_Axisymmetrical DruckerPragerHyperboloidal_PlaneStress DruckerPragerHyperboloidal_PlaneStrain DruckerPragerHyperboloidal_GeneralisedPlaneStrain DruckerPragerHyperboloidal_Tridimensional DruckerPragerHyperboloidalOld_AxisymmetricalGeneralisedPlaneStrain DruckerPragerHyperboloidalOld_AxisymmetricalGeneralisedPlaneStress DruckerPragerHyperboloidalOld_Axisymmetrical DruckerPragerHyperboloidalOld_PlaneStress DruckerPragerHyperboloidalOld_PlaneStrain DruckerPragerHyperboloidalOld_GeneralisedPlaneStrain DruckerPragerHyperboloidalOld_Tridimensional\n"
     ]
    }
   ],
   "source": [
    "!/mofem_install/jupyter/thomas/mfront_interface/compile_behaviours.sh /mofem_install/jupyter/thomas/mfront_interface/behaviours/DP_hyperboloidal_negative.mfront\n"
   ]
  },
  {
   "cell_type": "code",
   "execution_count": 6,
   "metadata": {},
   "outputs": [
    {
     "name": "stdout",
     "output_type": "stream",
     "text": [
      "Treating target : all\n",
      "In file included from \u001b[01m\u001b[KDruckerPragerHyperboloidal-generic.cxx:27\u001b[m\u001b[K:\n",
      "\u001b[01m\u001b[K/mofem_install/jupyter/thomas/mfront_interface/behaviours/DP_hyperboloidal_negative.mfront:\u001b[m\u001b[K In member function ‘\u001b[01m\u001b[Kbool tfel::material::DruckerPragerHyperboloidal<hypothesis, NumericType, false>::computeFdF(bool)\u001b[m\u001b[K’:\n",
      "\u001b[01m\u001b[K/mofem_install/jupyter/thomas/mfront_interface/behaviours/DP_hyperboloidal_negative.mfront:67:94:\u001b[m\u001b[K \u001b[01;31m\u001b[Kerror: \u001b[m\u001b[Kexpected ‘\u001b[01m\u001b[K)\u001b[m\u001b[K’ before ‘\u001b[01m\u001b[K;\u001b[m\u001b[K’ token\n",
      "   67 |   const auto hypterm = sq\u001b[34m\u001b[Kr\u001b[m\u001b[Kt(power<2>(a)*power<2>(MJP) + power<2>(max(Jr, seps));\n",
      "      |                          \u001b[34m\u001b[K~\u001b[m\u001b[K                                                                   \u001b[01;31m\u001b[K^\u001b[m\u001b[K\n",
      "      |                                                                                              \u001b[32m\u001b[K)\u001b[m\u001b[K\n",
      "compilation terminated due to -Wfatal-errors.\n",
      "make: *** [Makefile.mfront:36: DruckerPragerHyperboloidal-generic.o] Error 1\n",
      "callMake: can't build target 'all'\n",
      "libraries building went wrong\n",
      "Command was: make -C src -f Makefile.mfront all -s \n"
     ]
    }
   ],
   "source": [
    "!/mofem_install/jupyter/thomas/mfront_interface/compile_behaviours.sh /mofem_install/jupyter/thomas/mfront_interface/behaviours/DP_hyperboloidal_negative_old.mfront\n"
   ]
  },
  {
   "cell_type": "code",
   "execution_count": 7,
   "metadata": {},
   "outputs": [],
   "source": [
    "# !/mofem_install/jupyter/thomas/mfront_interface/compile_behaviours.sh /mofem_install/jupyter/thomas/mfront_interface/behaviours/DP_NonAssociated_negative.mfront\n",
    "# ================THESE ONES NOT NEEDED FOR ANALYSIS====================\n",
    "# !/mofem_install/jupyter/thomas/mfront_interface/compile_behaviours.sh /mofem_install/jupyter/thomas/mfront_interface/behaviours/DP.mfront\n",
    "# !/mofem_install/jupyter/thomas/mfront_interface/compile_behaviours.sh /mofem_install/jupyter/thomas/mfront_interface/behaviours/DP_NonAssociated.mfront\n",
    "# !/mofem_install/jupyter/thomas/mfront_interface/compile_behaviours.sh /mofem_install/jupyter/thomas/mfront_interface/behaviours/DP_hyperboloidal.mfront\n",
    "\n",
    "# ================THESE ONES DO NOT WORK YET====================\n",
    "# !/mofem_install/jupyter/thomas/mfront_interface/compile_behaviours.sh /mofem_install/jupyter/thomas/mfront_interface/behaviours/DP_hyperboloidal_hardening.mfront\n",
    "# !/mofem_install/jupyter/thomas/mfront_interface/compile_behaviours.sh /mofem_install/jupyter/thomas/mfront_interface/behaviours/DP_paraboloidal.mfront\n",
    "# !/mofem_install/jupyter/thomas/mfront_interface/compile_behaviours.sh /mofem_install/jupyter/thomas/mfront_interface/behaviours/DP_SingleNonAssociated.mfront\n",
    "# !/mofem_install/jupyter/thomas/mfront_interface/compile_behaviours.sh /mofem_install/jupyter/thomas/mfront_interface/behaviours/DP_DoubleSurface.mfront\n"
   ]
  },
  {
   "cell_type": "code",
   "execution_count": 8,
   "metadata": {},
   "outputs": [
    {
     "name": "stdout",
     "output_type": "stream",
     "text": [
      "/mofem_install/jupyter/thomas/mfront_interface/src/libBehaviour.so DruckerPragerHyperboloidalOld\n",
      "No hypothesis defined, using default\n",
      "terminate called after throwing an instance of 'std::runtime_error'\n",
      "  what():  SingleStructureSchemeParser::SingleStructureScheme : error while parsing file '/mofem_install/jupyter/thomas/mfront_interface/behaviours/DP_hyperboloidal_old.mtest' at line '1'.\n",
      "ExternalLibraryManager::getSupportedModellingHypotheses: number of modelling hypotheses could not be read (/mofem_install/jupyter/thomas/mfront_interface/src/libBehaviour.so: undefined symbol: DruckerPragerHyperboloidalOld_nModellingHypotheses)\n",
      "Aborted (core dumped)\n"
     ]
    }
   ],
   "source": [
    "!mtest --@MaximumNumberOfSubSteps=1 /mofem_install/jupyter/thomas/mfront_interface/behaviours/DP_hyperboloidal_old.mtest --xml-output"
   ]
  },
  {
   "cell_type": "code",
   "execution_count": 9,
   "metadata": {},
   "outputs": [
    {
     "name": "stdout",
     "output_type": "stream",
     "text": [
      "/mofem_install/jupyter/thomas/mfront_interface/src/libBehaviour.so DruckerPragerHyperboloidal\n",
      "No hypothesis defined, using default\n",
      "terminate called after throwing an instance of 'std::runtime_error'\n",
      "  what():  SingleStructureSchemeParser::SingleStructureScheme : error while parsing file '/mofem_install/jupyter/thomas/mfront_interface/behaviours/DP_hyperboloidal.mtest' at line '1'.\n",
      "ExternalLibraryManager::getSupportedModellingHypotheses: number of modelling hypotheses could not be read (/mofem_install/jupyter/thomas/mfront_interface/src/libBehaviour.so: undefined symbol: DruckerPragerHyperboloidal_nModellingHypotheses)\n",
      "Aborted (core dumped)\n"
     ]
    }
   ],
   "source": [
    "!mtest --@MaximumNumberOfSubSteps=1 /mofem_install/jupyter/thomas/mfront_interface/behaviours/DP_hyperboloidal.mtest --xml-output"
   ]
  },
  {
   "cell_type": "code",
   "execution_count": 10,
   "metadata": {},
   "outputs": [
    {
     "name": "stdout",
     "output_type": "stream",
     "text": [
      "/mofem_install/jupyter/thomas/mfront_interface/src/libBehaviour.so DruckerPragerSimple\n",
      "No hypothesis defined, using default\n",
      "\n",
      "Beginning of test suite 'MTest/DP_simple'\n",
      "** no prediction\n",
      "resolution from 0 to 0.005\n",
      "iteration 1 : 0.00025 0 (-0.0001475 0.00025 0.00025 0 0 0)\n",
      "iteration 2 : 5.42101e-20 3.07393e-14 (-0.0001475 0.00025 0.00025 0 0 0)\n",
      "convergence, after 2 iterations, order undefined\n",
      "\n",
      "resolution from 0.005 to 0.01\n",
      "iteration 1 : 0.00025 6.93889e-18 (-0.000295 0.0005 0.0005 0 0 0)\n",
      "iteration 2 : 2.46519e-32 3.07532e-14 (-0.000295 0.0005 0.0005 0 0 0)\n",
      "convergence, after 2 iterations, order undefined\n",
      "\n",
      "resolution from 0.01 to 0.015\n",
      "iteration 1 : 0.00025 0 (-0.0004425 0.00075 0.00075 0 0 0)\n",
      "iteration 2 : 2.46519e-32 3.07254e-14 (-0.0004425 0.00075 0.00075 0 0 0)\n",
      "convergence, after 2 iterations, order undefined\n",
      "\n",
      "resolution from 0.015 to 0.02\n",
      "iteration 1 : 0.00025 0 (-0.00059 0.001 0.001 0 0 0)\n",
      "iteration 2 : 0 3.07809e-14 (-0.00059 0.001 0.001 0 0 0)\n",
      "convergence, after 2 iterations, order undefined\n",
      "\n",
      "resolution from 0.02 to 0.025\n",
      "iteration 1 : 0.00025 0 (-0.0007375 0.00125 0.00125 0 0 0)\n",
      "iteration 2 : 1.84889e-32 3.07532e-14 (-0.0007375 0.00125 0.00125 0 0 0)\n",
      "convergence, after 2 iterations, order undefined\n",
      "\n",
      "resolution from 0.025 to 0.03\n",
      "iteration 1 : 0.00025 0 (-0.000885 0.0015 0.0015 0 0 0)\n",
      "iteration 2 : 2.46519e-32 3.06977e-14 (-0.000885 0.0015 0.0015 0 0 0)\n",
      "convergence, after 2 iterations, order undefined\n",
      "\n",
      "resolution from 0.03 to 0.035\n",
      "iteration 1 : 0.00025 1.38778e-17 (-0.0010325 0.00175 0.00175 0 0 0)\n",
      "iteration 2 : 2.46519e-32 3.07532e-14 (-0.0010325 0.00175 0.00175 0 0 0)\n",
      "convergence, after 2 iterations, order undefined\n",
      "\n",
      "resolution from 0.035 to 0.04\n",
      "iteration 1 : 0.00025 0 (-0.00118 0.002 0.002 0 0 0)\n",
      "iteration 2 : 2.46519e-32 3.06977e-14 (-0.00118 0.002 0.002 0 0 0)\n",
      "convergence, after 2 iterations, order undefined\n",
      "\n",
      "resolution from 0.04 to 0.045\n",
      "iteration 1 : 0.00025 0 (-0.0013275 0.00225 0.00225 0 0 0)\n",
      "iteration 2 : 3.38813e-21 0.000973252 (-0.0013275 0.00225 0.00225 0 0 0)\n",
      "convergence, after 2 iterations, order undefined\n",
      "\n",
      "resolution from 0.045 to 0.05\n",
      "iteration 1 : 0.00025 1.38778e-17 (-0.001475 0.0025 0.0025 0 0 0)\n",
      "iteration 2 : 1.0842e-19 0.0425266 (-0.001475 0.0025 0.0025 0 0 0)\n",
      "iteration 3 : 2.1684e-19 1.11022e-16 (-0.001475 0.0025 0.0025 0 0 0)\n",
      "convergence, after 3 iterations, order -0.0195947\n",
      "\n",
      "resolution from 0.05 to 0.055\n",
      "iteration 1 : 0.00025 5.55112e-17 (-0.0016225 0.00275 0.00275 0 0 0)\n",
      "iteration 2 : 5.91646e-31 3.37619e-13 (-0.0016225 0.00275 0.00275 0 0 0)\n",
      "convergence, after 2 iterations, order undefined\n",
      "\n",
      "resolution from 0.055 to 0.06\n",
      "iteration 1 : 0.00025 2.77556e-17 (-0.00177 0.003 0.003 0 0 0)\n",
      "iteration 2 : 1.21973e-19 0.0425266 (-0.00177 0.003 0.003 0 0 0)\n",
      "iteration 3 : 2.1684e-19 5.55112e-17 (-0.00177 0.003 0.003 0 0 0)\n",
      "convergence, after 3 iterations, order -0.0163194\n",
      "\n",
      "resolution from 0.06 to 0.065\n",
      "iteration 1 : 0.00025 5.55112e-17 (-0.0019175 0.00325 0.00325 0 0 0)\n",
      "iteration 2 : 1.0842e-19 0.0425266 (-0.0019175 0.00325 0.00325 0 0 0)\n",
      "iteration 3 : 0 0 (-0.0019175 0.00325 0.00325 0 0 0)\n",
      "convergence, after 3 iterations, order undefined\n",
      "\n",
      "resolution from 0.065 to 0.07\n",
      "iteration 1 : 0.00025 0 (-0.002065 0.0035 0.0035 0 0 0)\n",
      "iteration 2 : 3.9443e-31 2.46581e-13 (-0.002065 0.0035 0.0035 0 0 0)\n",
      "convergence, after 2 iterations, order undefined\n",
      "\n",
      "resolution from 0.07 to 0.075\n",
      "iteration 1 : 0.00025 5.55112e-17 (-0.0022125 0.00375 0.00375 0 0 0)\n",
      "iteration 2 : 1.57772e-30 5.67102e-13 (-0.0022125 0.00375 0.00375 0 0 0)\n",
      "convergence, after 2 iterations, order undefined\n",
      "\n",
      "resolution from 0.075 to 0.08\n",
      "iteration 1 : 0.00025 0 (-0.00236 0.004 0.004 0 0 0)\n",
      "iteration 2 : 7.88861e-31 6.29718e-13 (-0.00236 0.004 0.004 0 0 0)\n",
      "convergence, after 2 iterations, order undefined\n",
      "\n",
      "resolution from 0.08 to 0.085\n",
      "iteration 1 : 0.00025 0 (-0.0025075 0.00425 0.00425 0 0 0)\n",
      "iteration 2 : 7.88861e-31 2.46414e-13 (-0.0025075 0.00425 0.00425 0 0 0)\n",
      "convergence, after 2 iterations, order undefined\n",
      "\n",
      "resolution from 0.085 to 0.09\n",
      "iteration 1 : 0.00025 0 (-0.002655 0.0045 0.0045 0 0 0)\n",
      "iteration 2 : 2.21867e-30 7.54619e-13 (-0.002655 0.0045 0.0045 0 0 0)\n",
      "convergence, after 2 iterations, order undefined\n",
      "\n",
      "resolution from 0.09 to 0.095\n",
      "iteration 1 : 0.00025 0 (-0.0028025 0.00475 0.00475 0 0 0)\n",
      "iteration 2 : 3.9443e-31 2.24543e-13 (-0.0028025 0.00475 0.00475 0 0 0)\n",
      "convergence, after 2 iterations, order undefined\n",
      "\n",
      "resolution from 0.095 to 0.1\n",
      "iteration 1 : 0.00025 0 (-0.00295 0.005 0.005 0 0 0)\n",
      "iteration 2 : 2.1684e-19 0.0425266 (-0.00295 0.005 0.005 0 0 0)\n",
      "iteration 3 : 3.85186e-34 1.11022e-16 (-0.00295 0.005 0.005 0 0 0)\n",
      "convergence, after 3 iterations, order 0.97933\n",
      "\n",
      "resolution from 0.1 to 0.105\n",
      "iteration 1 : 0.00025 0 (-0.0030975 0.00525 0.00525 0 0 0)\n",
      "iteration 2 : 2.31728e-30 6.29496e-13 (-0.0030975 0.00525 0.00525 0 0 0)\n",
      "convergence, after 2 iterations, order undefined\n",
      "\n",
      "resolution from 0.105 to 0.11\n",
      "iteration 1 : 0.00025 1.11022e-16 (-0.003245 0.0055 0.0055 0 0 0)\n",
      "iteration 2 : 3.9443e-31 2.75113e-13 (-0.003245 0.0055 0.0055 0 0 0)\n",
      "convergence, after 2 iterations, order undefined\n",
      "\n",
      "resolution from 0.11 to 0.115\n",
      "iteration 1 : 0.00025 0 (-0.0033925 0.00575 0.00575 0 0 0)\n",
      "iteration 2 : 1.0842e-19 0.0425266 (-0.0033925 0.00575 0.00575 0 0 0)\n",
      "iteration 3 : 0 0 (-0.0033925 0.00575 0.00575 0 0 0)\n",
      "convergence, after 3 iterations, order undefined\n",
      "\n",
      "resolution from 0.115 to 0.12\n",
      "iteration 1 : 0.00025 0 (-0.00354 0.006 0.006 0 0 0)\n",
      "iteration 2 : 1.0842e-19 0.0425266 (-0.00354 0.006 0.006 0 0 0)\n",
      "iteration 3 : 0 0 (-0.00354 0.006 0.006 0 0 0)\n",
      "convergence, after 3 iterations, order undefined\n",
      "\n",
      "resolution from 0.12 to 0.125\n",
      "iteration 1 : 0.00025 0 (-0.0036875 0.00625 0.00625 0 0 0)\n",
      "iteration 2 : 0 4.00124e-13 (-0.0036875 0.00625 0.00625 0 0 0)\n",
      "convergence, after 2 iterations, order undefined\n",
      "\n",
      "resolution from 0.125 to 0.13\n",
      "iteration 1 : 0.00025 1.11022e-16 (-0.003835 0.0065 0.0065 0 0 0)\n",
      "iteration 2 : 1.0842e-19 0.0425266 (-0.003835 0.0065 0.0065 0 0 0)\n",
      "iteration 3 : 1.47776e-34 1.11022e-16 (-0.003835 0.0065 0.0065 0 0 0)\n",
      "convergence, after 3 iterations, order 0.967628\n",
      "\n",
      "resolution from 0.13 to 0.135\n",
      "iteration 1 : 0.00025 0 (-0.0039825 0.00675 0.00675 0 0 0)\n",
      "iteration 2 : 6.77626e-20 0.0425266 (-0.0039825 0.00675 0.00675 0 0 0)\n",
      "iteration 3 : 0 0 (-0.0039825 0.00675 0.00675 0 0 0)\n",
      "convergence, after 3 iterations, order undefined\n",
      "\n",
      "resolution from 0.135 to 0.14\n",
      "iteration 1 : 0.00025 0 (-0.00413 0.007 0.007 0 0 0)\n",
      "iteration 2 : 3.9443e-31 2.24598e-13 (-0.00413 0.007 0.007 0 0 0)\n",
      "convergence, after 2 iterations, order undefined\n",
      "\n",
      "resolution from 0.14 to 0.145\n",
      "iteration 1 : 0.00025 1.11022e-16 (-0.0042775 0.00725 0.00725 0 0 0)\n",
      "iteration 2 : 2.36658e-30 5.67102e-13 (-0.0042775 0.00725 0.00725 0 0 0)\n",
      "convergence, after 2 iterations, order undefined\n",
      "\n",
      "resolution from 0.145 to 0.15\n",
      "iteration 1 : 0.00025 0 (-0.004425 0.0075 0.0075 0 0 0)\n",
      "iteration 2 : 3.15544e-30 6.92002e-13 (-0.004425 0.0075 0.0075 0 0 0)\n",
      "convergence, after 2 iterations, order undefined\n",
      "\n",
      "resolution from 0.15 to 0.155\n",
      "iteration 1 : 0.00025 0 (-0.0045725 0.00775 0.00775 0 0 0)\n",
      "iteration 2 : 2.1684e-19 0.0425266 (-0.0045725 0.00775 0.00775 0 0 0)\n",
      "iteration 3 : 0 0 (-0.0045725 0.00775 0.00775 0 0 0)\n",
      "convergence, after 3 iterations, order undefined\n",
      "\n",
      "resolution from 0.155 to 0.16\n",
      "iteration 1 : 0.00025 0 (-0.00472 0.008 0.008 0 0 0)\n",
      "iteration 2 : 7.88861e-31 5.66991e-13 (-0.00472 0.008 0.008 0 0 0)\n",
      "convergence, after 2 iterations, order undefined\n",
      "\n",
      "resolution from 0.16 to 0.165\n",
      "iteration 1 : 0.00025 1.11022e-16 (-0.0048675 0.00825 0.00825 0 0 0)\n",
      "iteration 2 : 1.97215e-31 3.37841e-13 (-0.0048675 0.00825 0.00825 0 0 0)\n",
      "convergence, after 2 iterations, order undefined\n",
      "\n",
      "resolution from 0.165 to 0.17\n",
      "iteration 1 : 0.00025 0 (-0.005015 0.0085 0.0085 0 0 0)\n",
      "iteration 2 : 3.25261e-19 0.0425266 (-0.005015 0.0085 0.0085 0 0 0)\n",
      "iteration 3 : 0 0 (-0.005015 0.0085 0.0085 0 0 0)\n",
      "convergence, after 3 iterations, order undefined\n",
      "\n",
      "resolution from 0.17 to 0.175\n",
      "iteration 1 : 0.00025 0 (-0.0051625 0.00875 0.00875 0 0 0)\n",
      "iteration 2 : 2.1684e-19 0.0425266 (-0.0051625 0.00875 0.00875 0 0 0)\n",
      "iteration 3 : 9.62965e-35 1.11022e-16 (-0.0051625 0.00875 0.00875 0 0 0)\n",
      "convergence, after 3 iterations, order 1.0193\n",
      "\n",
      "resolution from 0.175 to 0.18\n",
      "iteration 1 : 0.00025 1.11022e-16 (-0.00531 0.009 0.009 0 0 0)\n",
      "iteration 2 : 7.88861e-31 3.37397e-13 (-0.00531 0.009 0.009 0 0 0)\n",
      "convergence, after 2 iterations, order undefined\n",
      "\n",
      "resolution from 0.18 to 0.185\n",
      "iteration 1 : 0.00025 1.11022e-16 (-0.0054575 0.00925 0.00925 0 0 0)\n",
      "iteration 2 : 7.88861e-31 2.24709e-13 (-0.0054575 0.00925 0.00925 0 0 0)\n",
      "convergence, after 2 iterations, order undefined\n",
      "\n",
      "resolution from 0.185 to 0.19\n",
      "iteration 1 : 0.00025 0 (-0.005605 0.0095 0.0095 0 0 0)\n",
      "iteration 2 : 7.88861e-31 2.24487e-13 (-0.005605 0.0095 0.0095 0 0 0)\n",
      "convergence, after 2 iterations, order undefined\n",
      "\n",
      "resolution from 0.19 to 0.195\n",
      "iteration 1 : 0.00025 1.11022e-16 (-0.0057525 0.00975 0.00975 0 0 0)\n",
      "iteration 2 : 1.6263e-19 0.0425266 (-0.0057525 0.00975 0.00975 0 0 0)\n",
      "iteration 3 : 1.05926e-33 2.22045e-16 (-0.0057525 0.00975 0.00975 0 0 0)\n",
      "convergence, after 3 iterations, order 0.934118\n",
      "\n",
      "resolution from 0.195 to 0.2\n",
      "iteration 1 : 0.00025 1.11022e-16 (-0.0059 0.01 0.01 0 0 0)\n",
      "iteration 2 : 1.57772e-30 2.24265e-13 (-0.0059 0.01 0.01 0 0 0)\n",
      "convergence, after 2 iterations, order undefined\n",
      "\n",
      "resolution from 0.2 to 0.205\n",
      "iteration 1 : 0.00025 0 (-0.0060475 0.01025 0.01025 0 0 0)\n",
      "iteration 2 : 2.36658e-30 1.17173e-12 (-0.0060475 0.01025 0.01025 0 0 0)\n",
      "convergence, after 2 iterations, order undefined\n",
      "\n",
      "resolution from 0.205 to 0.21\n",
      "iteration 1 : 0.00025 2.22045e-16 (-0.006195 0.0105 0.0105 0 0 0)\n",
      "iteration 2 : 0 1.10822e-12 (-0.006195 0.0105 0.0105 0 0 0)\n",
      "convergence, after 2 iterations, order undefined\n",
      "\n",
      "resolution from 0.21 to 0.215\n",
      "iteration 1 : 0.00025 0 (-0.0063425 0.01075 0.01075 0 0 0)\n",
      "iteration 2 : 0 7.12541e-13 (-0.0063425 0.01075 0.01075 0 0 0)\n",
      "convergence, after 2 iterations, order undefined\n",
      "\n",
      "resolution from 0.215 to 0.22\n",
      "iteration 1 : 0.00025 2.22045e-16 (-0.00649 0.011 0.011 0 0 0)\n",
      "iteration 2 : 0 2.14939e-12 (-0.00649 0.011 0.011 0 0 0)\n",
      "convergence, after 2 iterations, order undefined\n",
      "\n",
      "resolution from 0.22 to 0.225\n",
      "iteration 1 : 0.00025 2.22045e-16 (-0.0066375 0.01125 0.01125 0 0 0)\n",
      "\n",
      "MTest::computeStiffnessMatrixAndResidual : behaviour intregration failed\n",
      "Execution failed (GenericSolver::execute: maximum number of sub stepping reached)\n",
      "-number of period:     44\n",
      "-number of iterations: 102\n",
      "-number of sub-steps:  1\n",
      "Result of test 'unit behaviour test' of group 'MTest'            : \u001b[31mFAILED\n",
      "\u001b[0mEnd of Test Suite                                                : \u001b[31mFAILED\n",
      "\u001b[0m"
     ]
    }
   ],
   "source": [
    "!mtest --@MaximumNumberOfSubSteps=1 /mofem_install/jupyter/thomas/mfront_interface/behaviours/DP_simple.mtest --xml-output\n"
   ]
  }
 ],
 "metadata": {
  "kernelspec": {
   "display_name": "Python 3",
   "language": "python",
   "name": "python3"
  },
  "language_info": {
   "codemirror_mode": {
    "name": "ipython",
    "version": 3
   },
   "file_extension": ".py",
   "mimetype": "text/x-python",
   "name": "python",
   "nbconvert_exporter": "python",
   "pygments_lexer": "ipython3",
   "version": "3.11.6"
  }
 },
 "nbformat": 4,
 "nbformat_minor": 2
}
