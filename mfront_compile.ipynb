{
 "cells": [
  {
   "cell_type": "code",
   "execution_count": 1,
   "metadata": {},
   "outputs": [],
   "source": [
    "# import shutil\n",
    "\n",
    "# shutil.rmtree('/mofem_install/jupyter/thomas/mfront_interface/include')\n",
    "# shutil.rmtree('/mofem_install/jupyter/thomas/mfront_interface/src')"
   ]
  },
  {
   "cell_type": "code",
   "execution_count": null,
   "metadata": {},
   "outputs": [
    {
     "name": "stdout",
     "output_type": "stream",
     "text": [
      "Treating target : all\n",
      "The following library has been built :\n",
      "- libBehaviour.so :  DruckerPragerSimple_AxisymmetricalGeneralisedPlaneStrain DruckerPragerSimple_AxisymmetricalGeneralisedPlaneStress DruckerPragerSimple_Axisymmetrical DruckerPragerSimple_PlaneStress DruckerPragerSimple_PlaneStrain DruckerPragerSimple_GeneralisedPlaneStrain DruckerPragerSimple_Tridimensional DruckerPragerHyperboloidal_AxisymmetricalGeneralisedPlaneStrain DruckerPragerHyperboloidal_AxisymmetricalGeneralisedPlaneStress DruckerPragerHyperboloidal_Axisymmetrical DruckerPragerHyperboloidal_PlaneStress DruckerPragerHyperboloidal_PlaneStrain DruckerPragerHyperboloidal_GeneralisedPlaneStrain DruckerPragerHyperboloidal_Tridimensional LinearElasticity_AxisymmetricalGeneralisedPlaneStrain LinearElasticity_Axisymmetrical LinearElasticity_PlaneStrain LinearElasticity_GeneralisedPlaneStrain LinearElasticity_Tridimensional\n",
      "Treating target : all\n",
      "The following library has been built :\n",
      "- libBehaviour.so :  DruckerPragerSimple_AxisymmetricalGeneralisedPlaneStrain DruckerPragerSimple_AxisymmetricalGeneralisedPlaneStress DruckerPragerSimple_Axisymmetrical DruckerPragerSimple_PlaneStress DruckerPragerSimple_PlaneStrain DruckerPragerSimple_GeneralisedPlaneStrain DruckerPragerSimple_Tridimensional DruckerPragerHyperboloidal_AxisymmetricalGeneralisedPlaneStrain DruckerPragerHyperboloidal_AxisymmetricalGeneralisedPlaneStress DruckerPragerHyperboloidal_Axisymmetrical DruckerPragerHyperboloidal_PlaneStress DruckerPragerHyperboloidal_PlaneStrain DruckerPragerHyperboloidal_GeneralisedPlaneStrain DruckerPragerHyperboloidal_Tridimensional LinearElasticity_AxisymmetricalGeneralisedPlaneStrain LinearElasticity_Axisymmetrical LinearElasticity_PlaneStrain LinearElasticity_GeneralisedPlaneStrain LinearElasticity_Tridimensional VMSimo_AxisymmetricalGeneralisedPlaneStrain VMSimo_AxisymmetricalGeneralisedPlaneStress VMSimo_Axisymmetrical VMSimo_PlaneStress VMSimo_PlaneStrain VMSimo_GeneralisedPlaneStrain VMSimo_Tridimensional\n"
     ]
    }
   ],
   "source": [
    "!/mofem_install/jupyter/thomas/mfront_interface/compile_behaviours.sh /mofem_install/jupyter/thomas/mfront_interface/behaviours/LinearElasticity.mfront\n",
    "\n",
    "!/mofem_install/jupyter/thomas/mfront_interface/compile_behaviours.sh /mofem_install/jupyter/thomas/mfront_interface/behaviours/VMHardening_implicit.mfront\n",
    "\n",
    "!/mofem_install/jupyter/thomas/mfront_interface/compile_behaviours.sh /mofem_install/jupyter/thomas/mfront_interface/behaviours/DP_negative.mfront\n",
    "!/mofem_install/jupyter/thomas/mfront_interface/compile_behaviours.sh /mofem_install/jupyter/thomas/mfront_interface/behaviours/DP_hyperboloidal_negative.mfront\n",
    "\n",
    "# ================THESE ONES NOT NEEDED FOR ANALYSIS====================\n",
    "# !/mofem_install/jupyter/thomas/mfront_interface/compile_behaviours.sh /mofem_install/jupyter/thomas/mfront_interface/behaviours/VMHardening_DefaultDSL.mfront\n",
    "# !/mofem_install/jupyter/thomas/mfront_interface/compile_behaviours.sh /mofem_install/jupyter/thomas/mfront_interface/behaviours/DP.mfront\n",
    "# !/mofem_install/jupyter/thomas/mfront_interface/compile_behaviours.sh /mofem_install/jupyter/thomas/mfront_interface/behaviours/DP_hyperboloidal.mfront\n",
    "# !/mofem_install/jupyter/thomas/mfront_interface/compile_behaviours.sh /mofem_install/jupyter/thomas/mfront_interface/behaviours/DP_NonAssociated.mfront\n",
    "\n",
    "# ================THESE ONES DO NOT WORK YET====================\n",
    "# !/mofem_install/jupyter/thomas/mfront_interface/compile_behaviours.sh /mofem_install/jupyter/thomas/mfront_interface/behaviours/DP_hyperboloidal_hardening.mfront\n",
    "# !/mofem_install/jupyter/thomas/mfront_interface/compile_behaviours.sh /mofem_install/jupyter/thomas/mfront_interface/behaviours/DP_paraboloidal.mfront\n",
    "# !/mofem_install/jupyter/thomas/mfront_interface/compile_behaviours.sh /mofem_install/jupyter/thomas/mfront_interface/behaviours/DP_SingleNonAssociated.mfront\n",
    "# !/mofem_install/jupyter/thomas/mfront_interface/compile_behaviours.sh /mofem_install/jupyter/thomas/mfront_interface/behaviours/DP_DoubleSurface.mfront\n"
   ]
  }
 ],
 "metadata": {
  "kernelspec": {
   "display_name": "Python 3",
   "language": "python",
   "name": "python3"
  },
  "language_info": {
   "codemirror_mode": {
    "name": "ipython",
    "version": 3
   },
   "file_extension": ".py",
   "mimetype": "text/x-python",
   "name": "python",
   "nbconvert_exporter": "python",
   "pygments_lexer": "ipython3",
   "version": "3.11.6"
  }
 },
 "nbformat": 4,
 "nbformat_minor": 2
}
