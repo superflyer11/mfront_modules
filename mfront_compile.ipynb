{
 "cells": [
  {
   "cell_type": "code",
   "execution_count": 4,
   "metadata": {},
   "outputs": [
    {
     "ename": "FileNotFoundError",
     "evalue": "[Errno 2] No such file or directory: '/mofem_install/jupyter/thomas/mfront_modules/src'",
     "output_type": "error",
     "traceback": [
      "\u001b[0;31m---------------------------------------------------------------------------\u001b[0m",
      "\u001b[0;31mFileNotFoundError\u001b[0m                         Traceback (most recent call last)",
      "Cell \u001b[0;32mIn[4], line 4\u001b[0m\n\u001b[1;32m      1\u001b[0m \u001b[38;5;28;01mimport\u001b[39;00m \u001b[38;5;21;01mshutil\u001b[39;00m\n\u001b[1;32m      3\u001b[0m shutil\u001b[38;5;241m.\u001b[39mrmtree(\u001b[38;5;124m'\u001b[39m\u001b[38;5;124m/mofem_install/jupyter/thomas/mfront_modules/include\u001b[39m\u001b[38;5;124m'\u001b[39m)\n\u001b[0;32m----> 4\u001b[0m \u001b[43mshutil\u001b[49m\u001b[38;5;241;43m.\u001b[39;49m\u001b[43mrmtree\u001b[49m\u001b[43m(\u001b[49m\u001b[38;5;124;43m'\u001b[39;49m\u001b[38;5;124;43m/mofem_install/jupyter/thomas/mfront_modules/src\u001b[39;49m\u001b[38;5;124;43m'\u001b[39;49m\u001b[43m)\u001b[49m\n",
      "File \u001b[0;32m/mofem_install/um_view/lib/python3.11/shutil.py:722\u001b[0m, in \u001b[0;36mrmtree\u001b[0;34m(path, ignore_errors, onerror, dir_fd)\u001b[0m\n\u001b[1;32m    720\u001b[0m     orig_st \u001b[38;5;241m=\u001b[39m os\u001b[38;5;241m.\u001b[39mlstat(path, dir_fd\u001b[38;5;241m=\u001b[39mdir_fd)\n\u001b[1;32m    721\u001b[0m \u001b[38;5;28;01mexcept\u001b[39;00m \u001b[38;5;167;01mException\u001b[39;00m:\n\u001b[0;32m--> 722\u001b[0m     \u001b[43monerror\u001b[49m\u001b[43m(\u001b[49m\u001b[43mos\u001b[49m\u001b[38;5;241;43m.\u001b[39;49m\u001b[43mlstat\u001b[49m\u001b[43m,\u001b[49m\u001b[43m \u001b[49m\u001b[43mpath\u001b[49m\u001b[43m,\u001b[49m\u001b[43m \u001b[49m\u001b[43msys\u001b[49m\u001b[38;5;241;43m.\u001b[39;49m\u001b[43mexc_info\u001b[49m\u001b[43m(\u001b[49m\u001b[43m)\u001b[49m\u001b[43m)\u001b[49m\n\u001b[1;32m    723\u001b[0m     \u001b[38;5;28;01mreturn\u001b[39;00m\n\u001b[1;32m    724\u001b[0m \u001b[38;5;28;01mtry\u001b[39;00m:\n",
      "File \u001b[0;32m/mofem_install/um_view/lib/python3.11/shutil.py:720\u001b[0m, in \u001b[0;36mrmtree\u001b[0;34m(path, ignore_errors, onerror, dir_fd)\u001b[0m\n\u001b[1;32m    717\u001b[0m \u001b[38;5;66;03m# Note: To guard against symlink races, we use the standard\u001b[39;00m\n\u001b[1;32m    718\u001b[0m \u001b[38;5;66;03m# lstat()/open()/fstat() trick.\u001b[39;00m\n\u001b[1;32m    719\u001b[0m \u001b[38;5;28;01mtry\u001b[39;00m:\n\u001b[0;32m--> 720\u001b[0m     orig_st \u001b[38;5;241m=\u001b[39m \u001b[43mos\u001b[49m\u001b[38;5;241;43m.\u001b[39;49m\u001b[43mlstat\u001b[49m\u001b[43m(\u001b[49m\u001b[43mpath\u001b[49m\u001b[43m,\u001b[49m\u001b[43m \u001b[49m\u001b[43mdir_fd\u001b[49m\u001b[38;5;241;43m=\u001b[39;49m\u001b[43mdir_fd\u001b[49m\u001b[43m)\u001b[49m\n\u001b[1;32m    721\u001b[0m \u001b[38;5;28;01mexcept\u001b[39;00m \u001b[38;5;167;01mException\u001b[39;00m:\n\u001b[1;32m    722\u001b[0m     onerror(os\u001b[38;5;241m.\u001b[39mlstat, path, sys\u001b[38;5;241m.\u001b[39mexc_info())\n",
      "\u001b[0;31mFileNotFoundError\u001b[0m: [Errno 2] No such file or directory: '/mofem_install/jupyter/thomas/mfront_modules/src'"
     ]
    }
   ],
   "source": [
    "import shutil\n",
    "\n",
    "shutil.rmtree('/mofem_install/jupyter/thomas/mfront_modules/include')\n",
    "shutil.rmtree('/mofem_install/jupyter/thomas/mfront_modules/src')"
   ]
  },
  {
   "cell_type": "code",
   "execution_count": 7,
   "metadata": {},
   "outputs": [
    {
     "name": "stdout",
     "output_type": "stream",
     "text": [
      "Treating target : all\n",
      "The following library has been built :\n",
      "- libBehaviour.so :  LinearElasticity_AxisymmetricalGeneralisedPlaneStrain LinearElasticity_Axisymmetrical LinearElasticity_PlaneStrain LinearElasticity_GeneralisedPlaneStrain LinearElasticity_Tridimensional vMDefault_AxisymmetricalGeneralisedPlaneStrain vMDefault_Axisymmetrical vMDefault_PlaneStrain vMDefault_GeneralisedPlaneStrain vMDefault_Tridimensional vM_AxisymmetricalGeneralisedPlaneStrain vM_AxisymmetricalGeneralisedPlaneStress vM_Axisymmetrical vM_PlaneStress vM_PlaneStrain vM_GeneralisedPlaneStrain vM_Tridimensional\n"
     ]
    }
   ],
   "source": [
    "!/mofem_install/jupyter/thomas/mfront_modules/compile_behaviours.sh /mofem_install/jupyter/thomas/mfront_modules/behaviours/LinearElasticity.mfront"
   ]
  },
  {
   "cell_type": "code",
   "execution_count": 8,
   "metadata": {},
   "outputs": [
    {
     "name": "stdout",
     "output_type": "stream",
     "text": [
      "Treating target : all\n",
      "The following library has been built :\n",
      "- libBehaviour.so :  LinearElasticity_AxisymmetricalGeneralisedPlaneStrain LinearElasticity_Axisymmetrical LinearElasticity_PlaneStrain LinearElasticity_GeneralisedPlaneStrain LinearElasticity_Tridimensional vMDefault_AxisymmetricalGeneralisedPlaneStrain vMDefault_Axisymmetrical vMDefault_PlaneStrain vMDefault_GeneralisedPlaneStrain vMDefault_Tridimensional vM_AxisymmetricalGeneralisedPlaneStrain vM_AxisymmetricalGeneralisedPlaneStress vM_Axisymmetrical vM_PlaneStress vM_PlaneStrain vM_GeneralisedPlaneStrain vM_Tridimensional\n",
      "Treating target : all\n",
      "The following library has been built :\n",
      "- libBehaviour.so :  LinearElasticity_AxisymmetricalGeneralisedPlaneStrain LinearElasticity_Axisymmetrical LinearElasticity_PlaneStrain LinearElasticity_GeneralisedPlaneStrain LinearElasticity_Tridimensional vMDefault_AxisymmetricalGeneralisedPlaneStrain vMDefault_Axisymmetrical vMDefault_PlaneStrain vMDefault_GeneralisedPlaneStrain vMDefault_Tridimensional vM_AxisymmetricalGeneralisedPlaneStrain vM_AxisymmetricalGeneralisedPlaneStress vM_Axisymmetrical vM_PlaneStress vM_PlaneStrain vM_GeneralisedPlaneStrain vM_Tridimensional\n"
     ]
    }
   ],
   "source": [
    "!/mofem_install/jupyter/thomas/mfront_modules/compile_behaviours.sh /mofem_install/jupyter/thomas/mfront_modules/behaviours/VMHardening_DefaultDSL.mfront\n",
    "\n",
    "!/mofem_install/jupyter/thomas/mfront_modules/compile_behaviours.sh /mofem_install/jupyter/thomas/mfront_modules/behaviours/VMHardening_implicit.mfront"
   ]
  },
  {
   "cell_type": "code",
   "execution_count": 9,
   "metadata": {},
   "outputs": [
    {
     "name": "stdout",
     "output_type": "stream",
     "text": [
      "Treating target : all\n"
     ]
    }
   ],
   "source": [
    "!/mofem_install/jupyter/thomas/mfront_modules/compile_behaviours.sh /mofem_install/jupyter/thomas/mfront_modules/behaviours/DP_NonAssociated_negative.mfront\n"
   ]
  },
  {
   "cell_type": "code",
   "execution_count": 10,
   "metadata": {},
   "outputs": [
    {
     "name": "stdout",
     "output_type": "stream",
     "text": [
      "Treating target : all\n",
      "The following library has been built :\n",
      "- libBehaviour.so :  LinearElasticity_AxisymmetricalGeneralisedPlaneStrain LinearElasticity_Axisymmetrical LinearElasticity_PlaneStrain LinearElasticity_GeneralisedPlaneStrain LinearElasticity_Tridimensional vMDefault_AxisymmetricalGeneralisedPlaneStrain vMDefault_Axisymmetrical vMDefault_PlaneStrain vMDefault_GeneralisedPlaneStrain vMDefault_Tridimensional vM_AxisymmetricalGeneralisedPlaneStrain vM_AxisymmetricalGeneralisedPlaneStress vM_Axisymmetrical vM_PlaneStress vM_PlaneStrain vM_GeneralisedPlaneStrain vM_Tridimensional DruckerPragerNonAssociated_AxisymmetricalGeneralisedPlaneStrain DruckerPragerNonAssociated_AxisymmetricalGeneralisedPlaneStress DruckerPragerNonAssociated_Axisymmetrical DruckerPragerNonAssociated_PlaneStress DruckerPragerNonAssociated_PlaneStrain DruckerPragerNonAssociated_GeneralisedPlaneStrain DruckerPragerNonAssociated_Tridimensional DruckerPragerHyperboloidal_AxisymmetricalGeneralisedPlaneStrain DruckerPragerHyperboloidal_AxisymmetricalGeneralisedPlaneStress DruckerPragerHyperboloidal_Axisymmetrical DruckerPragerHyperboloidal_PlaneStress DruckerPragerHyperboloidal_PlaneStrain DruckerPragerHyperboloidal_GeneralisedPlaneStrain DruckerPragerHyperboloidal_Tridimensional\n"
     ]
    }
   ],
   "source": [
    "!/mofem_install/jupyter/thomas/mfront_modules/compile_behaviours.sh /mofem_install/jupyter/thomas/mfront_modules/behaviours/DP_hyperboloidal_negative.mfront\n"
   ]
  },
  {
   "cell_type": "code",
   "execution_count": 10,
   "metadata": {},
   "outputs": [],
   "source": [
    "# !/mofem_install/jupyter/thomas/mfront_modules/compile_behaviours.sh /mofem_install/jupyter/thomas/mfront_modules/behaviours/DP_NonAssociated_negative.mfront\n",
    "# ================THESE ONES NOT NEEDED FOR ANALYSIS====================\n",
    "# !/mofem_install/jupyter/thomas/mfront_modules/compile_behaviours.sh /mofem_install/jupyter/thomas/mfront_modules/behaviours/DP.mfront\n",
    "# !/mofem_install/jupyter/thomas/mfront_modules/compile_behaviours.sh /mofem_install/jupyter/thomas/mfront_modules/behaviours/DP_NonAssociated.mfront\n",
    "# !/mofem_install/jupyter/thomas/mfront_modules/compile_behaviours.sh /mofem_install/jupyter/thomas/mfront_modules/behaviours/DP_hyperboloidal.mfront\n",
    "\n",
    "# ================THESE ONES DO NOT WORK YET====================\n",
    "# !/mofem_install/jupyter/thomas/mfront_modules/compile_behaviours.sh /mofem_install/jupyter/thomas/mfront_modules/behaviours/DP_hyperboloidal_hardening.mfront\n",
    "# !/mofem_install/jupyter/thomas/mfront_modules/compile_behaviours.sh /mofem_install/jupyter/thomas/mfront_modules/behaviours/DP_paraboloidal.mfront\n",
    "# !/mofem_install/jupyter/thomas/mfront_modules/compile_behaviours.sh /mofem_install/jupyter/thomas/mfront_modules/behaviours/DP_SingleNonAssociated.mfront\n",
    "# !/mofem_install/jupyter/thomas/mfront_modules/compile_behaviours.sh /mofem_install/jupyter/thomas/mfront_modules/behaviours/DP_DoubleSurface.mfront\n"
   ]
  },
  {
   "cell_type": "code",
   "execution_count": null,
   "metadata": {},
   "outputs": [],
   "source": [
    "!mtest --@MaximumNumberOfSubSteps=1 /mofem_install/jupyter/thomas/mfront_modules/behaviours/vMDefault.mtest --xml-output\n"
   ]
  },
  {
   "cell_type": "code",
   "execution_count": null,
   "metadata": {},
   "outputs": [],
   "source": [
    "!mtest --@MaximumNumberOfSubSteps=1 /mofem_install/jupyter/thomas/mfront_modules/behaviours/vM.mtest --xml-output\n"
   ]
  },
  {
   "cell_type": "code",
   "execution_count": null,
   "metadata": {},
   "outputs": [],
   "source": [
    "!/mofem_install/jupyter/thomas/mfront_modules/compile_behaviours.sh /mofem_install/jupyter/thomas/mfront_modules/behaviours/DruckerPragerCap.mfront\n"
   ]
  },
  {
   "cell_type": "code",
   "execution_count": null,
   "metadata": {},
   "outputs": [],
   "source": [
    "!mtest --@MaximumNumberOfSubSteps=1 /mofem_install/jupyter/thomas/mfront_modules/behaviours/DP_simple_Cap.mtest --xml-output\n"
   ]
  },
  {
   "cell_type": "code",
   "execution_count": null,
   "metadata": {},
   "outputs": [],
   "source": [
    "!mtest --@MaximumNumberOfSubSteps=1 /mofem_install/jupyter/thomas/mfront_modules/behaviours/DP_simple.mtest --xml-output\n"
   ]
  },
  {
   "cell_type": "code",
   "execution_count": null,
   "metadata": {},
   "outputs": [],
   "source": [
    "!mtest --@MaximumNumberOfSubSteps=1 /mofem_install/jupyter/thomas/mfront_modules/behaviours/DP_hyperboloidal.mtest --xml-output"
   ]
  }
 ],
 "metadata": {
  "kernelspec": {
   "display_name": "Python 3",
   "language": "python",
   "name": "python3"
  },
  "language_info": {
   "codemirror_mode": {
    "name": "ipython",
    "version": 3
   },
   "file_extension": ".py",
   "mimetype": "text/x-python",
   "name": "python",
   "nbconvert_exporter": "python",
   "pygments_lexer": "ipython3",
   "version": "3.11.6"
  }
 },
 "nbformat": 4,
 "nbformat_minor": 2
}
